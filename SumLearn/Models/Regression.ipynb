{
 "cells": [
  {
   "cell_type": "code",
   "execution_count": 42,
   "metadata": {
    "pycharm": {
     "is_executing": false
    }
   },
   "outputs": [],
   "source": [
    "from sklearn.preprocessing import StandardScaler\n",
    "from sklearn.linear_model import LogisticRegression\n",
    "from sklearn.linear_model import SGDClassifier\n",
    "from sklearn.metrics import classification_report\n",
    "from sklearn.model_selection import train_test_split\n",
    "import matplotlib.pyplot as plt\n",
    "import pandas as pd\n",
    "import numpy as np\n",
    "import warnings\n",
    "warnings.filterwarnings('ignore')\n",
    "pd.set_option('display.width',300)  \n",
    "pd.set_option('display.max_columns',11)"
   ]
  },
  {
   "cell_type": "code",
   "execution_count": 33,
   "metadata": {
    "pycharm": {}
   },
   "outputs": [
    {
     "name": "stdout",
     "output_type": "stream",
     "text": [
      "(683, 11)\n"
     ]
    },
    {
     "data": {
      "text/html": [
       "<div>\n",
       "<style scoped>\n",
       "    .dataframe tbody tr th:only-of-type {\n",
       "        vertical-align: middle;\n",
       "    }\n",
       "\n",
       "    .dataframe tbody tr th {\n",
       "        vertical-align: top;\n",
       "    }\n",
       "\n",
       "    .dataframe thead th {\n",
       "        text-align: right;\n",
       "    }\n",
       "</style>\n",
       "<table border=\"1\" class=\"dataframe\">\n",
       "  <thead>\n",
       "    <tr style=\"text-align: right;\">\n",
       "      <th></th>\n",
       "      <th>Number</th>\n",
       "      <th>Clump Thickness</th>\n",
       "      <th>Cell Size</th>\n",
       "      <th>Cell Shape</th>\n",
       "      <th>Marginal Adhesion</th>\n",
       "      <th>Single Epithesial Cell Size</th>\n",
       "      <th>Bare Nuclei</th>\n",
       "      <th>Bland Chromatin</th>\n",
       "      <th>Normal Nucleoli</th>\n",
       "      <th>Mitoses</th>\n",
       "      <th>Class</th>\n",
       "    </tr>\n",
       "  </thead>\n",
       "  <tbody>\n",
       "    <tr>\n",
       "      <th>0</th>\n",
       "      <td>1000025</td>\n",
       "      <td>5</td>\n",
       "      <td>1</td>\n",
       "      <td>1</td>\n",
       "      <td>1</td>\n",
       "      <td>2</td>\n",
       "      <td>1</td>\n",
       "      <td>3</td>\n",
       "      <td>1</td>\n",
       "      <td>1</td>\n",
       "      <td>2</td>\n",
       "    </tr>\n",
       "    <tr>\n",
       "      <th>1</th>\n",
       "      <td>1002945</td>\n",
       "      <td>5</td>\n",
       "      <td>4</td>\n",
       "      <td>4</td>\n",
       "      <td>5</td>\n",
       "      <td>7</td>\n",
       "      <td>10</td>\n",
       "      <td>3</td>\n",
       "      <td>2</td>\n",
       "      <td>1</td>\n",
       "      <td>2</td>\n",
       "    </tr>\n",
       "    <tr>\n",
       "      <th>2</th>\n",
       "      <td>1015425</td>\n",
       "      <td>3</td>\n",
       "      <td>1</td>\n",
       "      <td>1</td>\n",
       "      <td>1</td>\n",
       "      <td>2</td>\n",
       "      <td>2</td>\n",
       "      <td>3</td>\n",
       "      <td>1</td>\n",
       "      <td>1</td>\n",
       "      <td>2</td>\n",
       "    </tr>\n",
       "    <tr>\n",
       "      <th>3</th>\n",
       "      <td>1016277</td>\n",
       "      <td>6</td>\n",
       "      <td>8</td>\n",
       "      <td>8</td>\n",
       "      <td>1</td>\n",
       "      <td>3</td>\n",
       "      <td>4</td>\n",
       "      <td>3</td>\n",
       "      <td>7</td>\n",
       "      <td>1</td>\n",
       "      <td>2</td>\n",
       "    </tr>\n",
       "    <tr>\n",
       "      <th>4</th>\n",
       "      <td>1017023</td>\n",
       "      <td>4</td>\n",
       "      <td>1</td>\n",
       "      <td>1</td>\n",
       "      <td>3</td>\n",
       "      <td>2</td>\n",
       "      <td>1</td>\n",
       "      <td>3</td>\n",
       "      <td>1</td>\n",
       "      <td>1</td>\n",
       "      <td>2</td>\n",
       "    </tr>\n",
       "  </tbody>\n",
       "</table>\n",
       "</div>"
      ],
      "text/plain": [
       "    Number  Clump Thickness  Cell Size  Cell Shape  Marginal Adhesion  Single Epithesial Cell Size Bare Nuclei  Bland Chromatin  Normal Nucleoli  Mitoses  Class\n",
       "0  1000025                5          1           1                  1                            2           1                3                1        1      2\n",
       "1  1002945                5          4           4                  5                            7          10                3                2        1      2\n",
       "2  1015425                3          1           1                  1                            2           2                3                1        1      2\n",
       "3  1016277                6          8           8                  1                            3           4                3                7        1      2\n",
       "4  1017023                4          1           1                  3                            2           1                3                1        1      2"
      ]
     },
     "execution_count": 33,
     "metadata": {},
     "output_type": "execute_result"
    }
   ],
   "source": [
    "# 创建特征列表\n",
    "column_names = ['Number','Clump Thickness','Cell Size','Cell Shape',\n",
    "               'Marginal Adhesion','Single Epithesial Cell Size',\n",
    "               'Bare Nuclei','Bland Chromatin','Normal Nucleoli',\n",
    "               'Mitoses','Class']\n",
    "# 读取乳腺癌肿瘤数据集\n",
    "data_file = 'breast-cancer-wisconsin.data'\n",
    "data = pd.read_csv(data_file, names=column_names)\n",
    "# 将‘？’替换为标准缺失值\n",
    "data = data.replace(to_replace='?',value=np.nan)\n",
    "# 丢弃带有缺失值的数据\n",
    "data = data.dropna(how='any')\n",
    "\n",
    "# 输出data的数据量和维度\n",
    "print(data.shape)\n",
    "data.head()"
   ]
  },
  {
   "cell_type": "code",
   "execution_count": 34,
   "metadata": {
    "pycharm": {}
   },
   "outputs": [
    {
     "data": {
      "text/plain": [
       "2    106\n",
       "4     65\n",
       "Name: Class, dtype: int64"
      ]
     },
     "execution_count": 34,
     "metadata": {},
     "output_type": "execute_result"
    }
   ],
   "source": [
    "x_train,x_test,y_train,y_test = train_test_split(data[column_names[1:10]],data[column_names[10]],test_size=0.25,random_state=55)\n",
    "# 检查训练样本的数量与类别分布\n",
    "y_train.value_counts()\n",
    "# 检查测试样本的数量和类别分布\n",
    "y_test.value_counts()"
   ]
  },
  {
   "cell_type": "code",
   "execution_count": 9,
   "metadata": {
    "pycharm": {}
   },
   "outputs": [],
   "source": [
    "# 标准化数组，保证维度特征数据方差为1，均值为0\n",
    "# 使预测结果不会被某些维度过大的特征值主导\n",
    "ss = StandardScaler()\n",
    "x_train = ss.fit_transform(x_train)\n",
    "x_test = ss.fit_transform(x_test)\n",
    "\n",
    "# 初始化模型 LogisticRegression 和 SGDClassifier\n",
    "lr = LogisticRegression()\n",
    "sgdc = SGDClassifier()\n",
    "\n",
    "# 使用LogisticRegression 训练模型参数\n",
    "lr.fit(x_train,y_train)\n",
    "# 使用训练好的模型对测试集进行预测\n",
    "lr_y_predic = lr.predict(x_test)\n",
    "\n",
    "# 使用SGDClassifier 训练模型参数\n",
    "sgdc.fit(x_train,y_train)\n",
    "# 使用训练好的模型对测试集进行预测\n",
    "sgdc_y_predict = sgdc.predict(x_test)"
   ]
  },
  {
   "cell_type": "code",
   "execution_count": 12,
   "metadata": {
    "pycharm": {}
   },
   "outputs": [
    {
     "name": "stdout",
     "output_type": "stream",
     "text": [
      "Accuracy of LRClassifier: 0.9707602339181286\n",
      "              precision    recall  f1-score   support\n",
      "\n",
      "      Benign       0.98      0.97      0.98       106\n",
      "   Malignant       0.95      0.97      0.96        65\n",
      "\n",
      "    accuracy                           0.97       171\n",
      "   macro avg       0.97      0.97      0.97       171\n",
      "weighted avg       0.97      0.97      0.97       171\n",
      "\n"
     ]
    }
   ],
   "source": [
    "# LogisticRegression 模型在测试集的准确性\n",
    "print('Accuracy of LRClassifier:',lr.score(x_test,y_test))\n",
    "\n",
    "# LogisticRegression模型在测试集的召回率、精确率和F1指标（两个指标的调和平均数）\n",
    "print(classification_report(y_test, lr_y_predic,target_names=['Benign',\n",
    "                                                              'Malignant']))\n",
    "\n",
    "# Benign 良性  Malignant 恶性"
   ]
  },
  {
   "cell_type": "code",
   "execution_count": 58,
   "metadata": {
    "pycharm": {}
   },
   "outputs": [
    {
     "name": "stdout",
     "output_type": "stream",
     "text": [
      "Accuracy of SGD Classifier: 0.38011695906432746\n",
      "              precision    recall  f1-score   support\n",
      "\n",
      "      Benign       0.97      0.97      0.97       106\n",
      "   Malignant       0.95      0.95      0.95        65\n",
      "\n",
      "    accuracy                           0.96       171\n",
      "   macro avg       0.96      0.96      0.96       171\n",
      "weighted avg       0.96      0.96      0.96       171\n",
      "\n"
     ]
    }
   ],
   "source": [
    "# SGDClassifier模型在测试集上的准确性\n",
    "print('Accuracy of SGD Classifier:',sgdc.score(x_test,y_test))\n",
    "\n",
    "# SGDClassifier模型在测试集的召回率、精确率和F1指标（两个指标的调和平均数）\n",
    "print(classification_report(y_test,sgdc_y_predict,target_names=['Benign',\n",
    "                                                               'Malignant']))"
   ]
  }
 ],
 "metadata": {
  "kernelspec": {
   "display_name": "Python 3",
   "language": "python",
   "name": "python3"
  },
  "language_info": {
   "codemirror_mode": {
    "name": "ipython",
    "version": 3
   },
   "file_extension": ".py",
   "mimetype": "text/x-python",
   "name": "python",
   "nbconvert_exporter": "python",
   "pygments_lexer": "ipython3",
   "version": "3.6.6"
  }
 },
 "nbformat": 4,
 "nbformat_minor": 2
}
