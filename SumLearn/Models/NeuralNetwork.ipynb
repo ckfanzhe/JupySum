{
 "cells": [
  {
   "cell_type": "code",
   "execution_count": 36,
   "metadata": {},
   "outputs": [],
   "source": [
    "import numpy as np\n",
    "import matplotlib.pylab as plt\n",
    "from sklearn.datasets import load_digits\n",
    "from PIL import Image"
   ]
  },
  {
   "cell_type": "code",
   "execution_count": 5,
   "metadata": {},
   "outputs": [
    {
     "data": {
      "image/png": "[encoded data removed]",
      "text/plain": [
       "<Figure size 432x288 with 1 Axes>"
      ]
     },
     "metadata": {
      "needs_background": "light"
     },
     "output_type": "display_data"
    }
   ],
   "source": [
    "# 定义阶越函数\n",
    "def step_func(x):\n",
    "    return np.array(x>0, dtype=np.int)\n",
    "\n",
    "x = np.arange(-5.0, 5.0, 0.1)\n",
    "y = step_func(x)\n",
    "plt.plot(x,y)\n",
    "# 指定y轴范围\n",
    "plt.ylim(-0.1, 1.1)\n",
    "plt.grid()"
   ]
  },
  {
   "cell_type": "code",
   "execution_count": 4,
   "metadata": {},
   "outputs": [
    {
     "data": {
      "image/png": "[encoded data removed]",
      "text/plain": [
       "<Figure size 432x288 with 1 Axes>"
      ]
     },
     "metadata": {
      "needs_background": "light"
     },
     "output_type": "display_data"
    }
   ],
   "source": [
    "# Sigmoid函数\n",
    "def sigmoid(x):\n",
    "    return 1/(1+np.exp(-x))\n",
    "\n",
    "x = np.arange(-5, 5, 0.1)\n",
    "y = sigmoid(x)\n",
    "plt.plot(x, y)\n",
    "plt.ylim(-0.1, 1.1)\n",
    "plt.grid()"
   ]
  },
  {
   "cell_type": "code",
   "execution_count": 7,
   "metadata": {},
   "outputs": [
    {
     "data": {
      "image/png": "[encoded data removed]",
      "text/plain": [
       "<Figure size 432x288 with 1 Axes>"
      ]
     },
     "metadata": {
      "needs_background": "light"
     },
     "output_type": "display_data"
    }
   ],
   "source": [
    "# 激活函数不能使用线性函数：不管有多深，总能找到与之等效的 无隐藏层的神经网络\n",
    "# ReLU（Rectified Linear Unit）激活函数\n",
    "def relu(x):\n",
    "    return np.maximum(0,x)  # 从输入的数值中找到最大的输出\n",
    "x = np.arange(-5, 5, 0.1)\n",
    "y = relu(x)\n",
    "plt.plot(x, y)\n",
    "plt.ylim(-0.1, 1.1)\n",
    "plt.grid()"
   ]
  },
  {
   "cell_type": "code",
   "execution_count": 10,
   "metadata": {},
   "outputs": [
    {
     "data": {
      "text/plain": [
       "array([0.31682708, 0.69627909])"
      ]
     },
     "execution_count": 10,
     "metadata": {},
     "output_type": "execute_result"
    }
   ],
   "source": [
    "class EasyNet:\n",
    "    def __init__(self):\n",
    "        self.network = {}\n",
    "        self.network['W1'] = np.array([[0.1, 0.3, 0.5], [0.2, 0.4, 0.6]])\n",
    "        self.network['b1'] = np.array([0.1, 0.2, 0.3])\n",
    "        self.network['W2'] = np.array([[0.1, 0.4], [0.2, 0.5], [0.3, 0.6]])\n",
    "        self.network['b2'] = np.array([0.1, 0.2])\n",
    "        self.network['W3'] = np.array([[0.1, 0.3], [0.2, 0.4]])\n",
    "        self.network['b3'] = np.array([0.1, 0.2])\n",
    "    def forward(self,x):\n",
    "        W1, W2, W3 = self.network['W1'], self.network['W2'], self.network['W3']\n",
    "        b1, b2, b3 = self.network['b1'], self.network['b2'], self.network['b3']\n",
    "        a1 = np.dot(x, W1) + b1\n",
    "        z1 = sigmoid(a1)\n",
    "        a2 = np.dot(z1, W2) + b2\n",
    "        z2 = sigmoid(a2)\n",
    "        a3 = np.dot(z2, W3) + b3\n",
    "        identity_func = lambda x:x\n",
    "        y = identity_func(a3)\n",
    "        return y\n",
    "network = EasyNet()\n",
    "x = np.array([1.0,0.5])\n",
    "y = network.forward(x)\n",
    "y"
   ]
  },
  {
   "cell_type": "code",
   "execution_count": 29,
   "metadata": {},
   "outputs": [],
   "source": [
    "# softmax函数,粗略版本，容易溢出，导致计算错误\n",
    "def softmax(a):\n",
    "    exp_a = np.exp(a)\n",
    "    sum_exp_a = np.sum(exp_a)\n",
    "    y = exp_a / sum_exp_a\n",
    "    return y\n",
    "\n",
    "# 更新版,在原公式上分子分母同乘以一个常数结果值不变\n",
    "def softmax(a):\n",
    "    c = np.max(a)\n",
    "    exp_a = np.exp(a-c)\n",
    "    sum_exp_a = np.sum(exp_a)\n",
    "    y = exp_a / sum_exp_a\n",
    "    return y"
   ]
  },
  {
   "cell_type": "code",
   "execution_count": 45,
   "metadata": {},
   "outputs": [
    {
     "name": "stdout",
     "output_type": "stream",
     "text": [
      "[[ 0.  0.  5. 13.  9.  1.  0.  0.]\n",
      " [ 0.  0. 13. 15. 10. 15.  5.  0.]\n",
      " [ 0.  3. 15.  2.  0. 11.  8.  0.]\n",
      " [ 0.  4. 12.  0.  0.  8.  8.  0.]\n",
      " [ 0.  5.  8.  0.  0.  9.  8.  0.]\n",
      " [ 0.  4. 11.  0.  1. 12.  7.  0.]\n",
      " [ 0.  2. 14.  5. 10. 12.  0.  0.]\n",
      " [ 0.  0.  6. 13. 10.  0.  0.  0.]]\n"
     ]
    }
   ],
   "source": [
    "# 导入手写数字图像数据\n",
    "digits = load_digits()\n",
    "# 取出第一张图片和第一个标签\n",
    "img = digits.data[0]\n",
    "label = digits.target[0]\n",
    "# 可视化图片\n",
    "# img.shape\n",
    "imgre = img.reshape(8,8)\n",
    "# pil_img = Image.fromarray(np.uint8(img))\n",
    "# pil_img.show()\n",
    "print(imgre)"
   ]
  },
  {
   "cell_type": "code",
   "execution_count": 63,
   "metadata": {},
   "outputs": [
    {
     "name": "stdout",
     "output_type": "stream",
     "text": [
      "(64,)\n",
      "[0.1187141  0.02672617 0.05262856 0.04423248 0.04028192 0.0358535\n",
      " 0.13977561 0.09574119 0.05629948 0.38974698]\n",
      "预测值为：[9]\n"
     ]
    }
   ],
   "source": [
    "# 用神经网络进行推理\n",
    "class EasyNet:\n",
    "    def __init__(self):\n",
    "        self.network = {}\n",
    "        self.network['W1'] = np.random.rand(192).reshape(64,3)\n",
    "        self.network['b1'] = np.random.rand(3)\n",
    "        self.network['W2'] = np.random.rand(30).reshape(3,10)\n",
    "        self.network['b2'] = np.random.rand(10)\n",
    "        self.network['W3'] = np.random.rand(100).reshape(10,10)\n",
    "        self.network['b3'] = np.random.rand(10)\n",
    "    def forward(self,x):\n",
    "        W1, W2, W3 = self.network['W1'], self.network['W2'], self.network['W3']\n",
    "        b1, b2, b3 = self.network['b1'], self.network['b2'], self.network['b3']\n",
    "        a1 = np.dot(x, W1) + b1\n",
    "        z1 = sigmoid(a1)\n",
    "        a2 = np.dot(z1, W2) + b2\n",
    "        z2 = sigmoid(a2)\n",
    "        a3 = np.dot(z2, W3) + b3\n",
    "        y = softmax(a3)\n",
    "        return y\n",
    "network = EasyNet()\n",
    "print(img.shape)\n",
    "x = np.array(img)\n",
    "y = network.forward(x)\n",
    "print(f'预测值为：{np.where(y ==np.max(y))[0]}')"
   ]
  },
  {
   "cell_type": "code",
   "execution_count": null,
   "metadata": {},
   "outputs": [],
   "source": []
  }
 ],
 "metadata": {
  "kernelspec": {
   "display_name": "Python 3",
   "language": "python",
   "name": "python3"
  },
  "language_info": {
   "codemirror_mode": {
    "name": "ipython",
    "version": 3
   },
   "file_extension": ".py",
   "mimetype": "text/x-python",
   "name": "python",
   "nbconvert_exporter": "python",
   "pygments_lexer": "ipython3",
   "version": "3.6.6"
  }
 },
 "nbformat": 4,
 "nbformat_minor": 2
}
