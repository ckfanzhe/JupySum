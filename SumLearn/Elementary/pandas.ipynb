{
 "cells": [
  {
   "cell_type": "code",
   "execution_count": 7,
   "metadata": {},
   "outputs": [],
   "source": [
    "import pandas as pd\n",
    "import numpy as np\n",
    "from fuzzywuzzy import fuzz,process"
   ]
  },
  {
   "cell_type": "code",
   "execution_count": 8,
   "metadata": {},
   "outputs": [],
   "source": [
    "# 常用设置\n",
    "pd.set_option('display.width',200)  \n",
    "pd.set_option('display.max_columns',50)"
   ]
  },
  {
   "cell_type": "code",
   "execution_count": 9,
   "metadata": {},
   "outputs": [],
   "source": [
    "# header 代表标题位置\n",
    "data = pd.read_excel('./sales.xlsx',sheet_name='sheet1',header=0)"
   ]
  },
  {
   "cell_type": "code",
   "execution_count": 12,
   "metadata": {},
   "outputs": [
    {
     "data": {
      "text/html": [
       "<div>\n",
       "<style scoped>\n",
       "    .dataframe tbody tr th:only-of-type {\n",
       "        vertical-align: middle;\n",
       "    }\n",
       "\n",
       "    .dataframe tbody tr th {\n",
       "        vertical-align: top;\n",
       "    }\n",
       "\n",
       "    .dataframe thead th {\n",
       "        text-align: right;\n",
       "    }\n",
       "</style>\n",
       "<table border=\"1\" class=\"dataframe\">\n",
       "  <thead>\n",
       "    <tr style=\"text-align: right;\">\n",
       "      <th></th>\n",
       "      <th>account</th>\n",
       "      <th>name</th>\n",
       "      <th>street</th>\n",
       "      <th>city</th>\n",
       "      <th>state</th>\n",
       "      <th>postal-code</th>\n",
       "      <th>Jan</th>\n",
       "      <th>Feb</th>\n",
       "      <th>Mar</th>\n",
       "    </tr>\n",
       "  </thead>\n",
       "  <tbody>\n",
       "    <tr>\n",
       "      <th>0</th>\n",
       "      <td>211829</td>\n",
       "      <td>Kerluke, Koepp and Hilpert</td>\n",
       "      <td>34456 Sean Highway</td>\n",
       "      <td>New Jaycob</td>\n",
       "      <td>Texas</td>\n",
       "      <td>28752</td>\n",
       "      <td>10000</td>\n",
       "      <td>62000</td>\n",
       "      <td>35000</td>\n",
       "    </tr>\n",
       "    <tr>\n",
       "      <th>1</th>\n",
       "      <td>320563</td>\n",
       "      <td>Walter-Trantow</td>\n",
       "      <td>1311 Alvis Tunnel</td>\n",
       "      <td>Port Khadijah</td>\n",
       "      <td>NorthCarolina</td>\n",
       "      <td>38365</td>\n",
       "      <td>95000</td>\n",
       "      <td>45000</td>\n",
       "      <td>35000</td>\n",
       "    </tr>\n",
       "    <tr>\n",
       "      <th>2</th>\n",
       "      <td>648336</td>\n",
       "      <td>Bashirian, Kunde and Price</td>\n",
       "      <td>62184 Schamberger Underpass Apt. 231</td>\n",
       "      <td>New Lilianland</td>\n",
       "      <td>Iowa</td>\n",
       "      <td>76517</td>\n",
       "      <td>91000</td>\n",
       "      <td>120000</td>\n",
       "      <td>35000</td>\n",
       "    </tr>\n",
       "    <tr>\n",
       "      <th>3</th>\n",
       "      <td>109996</td>\n",
       "      <td>D'Amore, Gleichner and Bode</td>\n",
       "      <td>155 Fadel Crescent Apt. 144</td>\n",
       "      <td>Hyattburgh</td>\n",
       "      <td>Maine</td>\n",
       "      <td>46021</td>\n",
       "      <td>45000</td>\n",
       "      <td>120000</td>\n",
       "      <td>10000</td>\n",
       "    </tr>\n",
       "    <tr>\n",
       "      <th>4</th>\n",
       "      <td>121213</td>\n",
       "      <td>Bauch-Goldner</td>\n",
       "      <td>7274 Marissa Common</td>\n",
       "      <td>Shanahanchester</td>\n",
       "      <td>California</td>\n",
       "      <td>49681</td>\n",
       "      <td>162000</td>\n",
       "      <td>120000</td>\n",
       "      <td>35000</td>\n",
       "    </tr>\n",
       "  </tbody>\n",
       "</table>\n",
       "</div>"
      ],
      "text/plain": [
       "   account                         name                                street             city          state  postal-code     Jan     Feb    Mar\n",
       "0   211829   Kerluke, Koepp and Hilpert                    34456 Sean Highway       New Jaycob          Texas        28752   10000   62000  35000\n",
       "1   320563               Walter-Trantow                     1311 Alvis Tunnel    Port Khadijah  NorthCarolina        38365   95000   45000  35000\n",
       "2   648336   Bashirian, Kunde and Price  62184 Schamberger Underpass Apt. 231   New Lilianland           Iowa        76517   91000  120000  35000\n",
       "3   109996  D'Amore, Gleichner and Bode           155 Fadel Crescent Apt. 144       Hyattburgh          Maine        46021   45000  120000  10000\n",
       "4   121213                Bauch-Goldner                   7274 Marissa Common  Shanahanchester     California        49681  162000  120000  35000"
      ]
     },
     "execution_count": 12,
     "metadata": {},
     "output_type": "execute_result"
    }
   ],
   "source": [
    "# 前5\n",
    "data.head()"
   ]
  },
  {
   "cell_type": "code",
   "execution_count": 13,
   "metadata": {},
   "outputs": [
    {
     "data": {
      "text/html": [
       "<div>\n",
       "<style scoped>\n",
       "    .dataframe tbody tr th:only-of-type {\n",
       "        vertical-align: middle;\n",
       "    }\n",
       "\n",
       "    .dataframe tbody tr th {\n",
       "        vertical-align: top;\n",
       "    }\n",
       "\n",
       "    .dataframe thead th {\n",
       "        text-align: right;\n",
       "    }\n",
       "</style>\n",
       "<table border=\"1\" class=\"dataframe\">\n",
       "  <thead>\n",
       "    <tr style=\"text-align: right;\">\n",
       "      <th></th>\n",
       "      <th>account</th>\n",
       "      <th>name</th>\n",
       "      <th>street</th>\n",
       "      <th>city</th>\n",
       "      <th>state</th>\n",
       "      <th>postal-code</th>\n",
       "      <th>Jan</th>\n",
       "      <th>Feb</th>\n",
       "      <th>Mar</th>\n",
       "    </tr>\n",
       "  </thead>\n",
       "  <tbody>\n",
       "    <tr>\n",
       "      <th>10</th>\n",
       "      <td>214098</td>\n",
       "      <td>Goodwin, Homenick and Jerde</td>\n",
       "      <td>649 Cierra Forks Apt. 078</td>\n",
       "      <td>Rosaberg</td>\n",
       "      <td>Tenessee</td>\n",
       "      <td>47743</td>\n",
       "      <td>45000</td>\n",
       "      <td>120000</td>\n",
       "      <td>55000</td>\n",
       "    </tr>\n",
       "    <tr>\n",
       "      <th>11</th>\n",
       "      <td>231907</td>\n",
       "      <td>Hahn-Moore</td>\n",
       "      <td>18115 Olivine Throughway</td>\n",
       "      <td>Norbertomouth</td>\n",
       "      <td>NorthDakota</td>\n",
       "      <td>31415</td>\n",
       "      <td>150000</td>\n",
       "      <td>10000</td>\n",
       "      <td>162000</td>\n",
       "    </tr>\n",
       "    <tr>\n",
       "      <th>12</th>\n",
       "      <td>242368</td>\n",
       "      <td>Frami, Anderson and Donnelly</td>\n",
       "      <td>182 Bertie Road</td>\n",
       "      <td>East Davian</td>\n",
       "      <td>Iowa</td>\n",
       "      <td>72686</td>\n",
       "      <td>162000</td>\n",
       "      <td>120000</td>\n",
       "      <td>35000</td>\n",
       "    </tr>\n",
       "    <tr>\n",
       "      <th>13</th>\n",
       "      <td>268755</td>\n",
       "      <td>Walsh-Haley</td>\n",
       "      <td>2624 Beatty Parkways</td>\n",
       "      <td>Goodwinmouth</td>\n",
       "      <td>RhodeIsland</td>\n",
       "      <td>31919</td>\n",
       "      <td>55000</td>\n",
       "      <td>120000</td>\n",
       "      <td>35000</td>\n",
       "    </tr>\n",
       "    <tr>\n",
       "      <th>14</th>\n",
       "      <td>273274</td>\n",
       "      <td>McDermott PLC</td>\n",
       "      <td>8917 Bergstrom Meadow</td>\n",
       "      <td>Kathryneborough</td>\n",
       "      <td>Delaware</td>\n",
       "      <td>27933</td>\n",
       "      <td>150000</td>\n",
       "      <td>120000</td>\n",
       "      <td>70000</td>\n",
       "    </tr>\n",
       "  </tbody>\n",
       "</table>\n",
       "</div>"
      ],
      "text/plain": [
       "    account                          name                     street             city        state  postal-code     Jan     Feb     Mar\n",
       "10   214098   Goodwin, Homenick and Jerde  649 Cierra Forks Apt. 078         Rosaberg     Tenessee        47743   45000  120000   55000\n",
       "11   231907                    Hahn-Moore   18115 Olivine Throughway    Norbertomouth  NorthDakota        31415  150000   10000  162000\n",
       "12   242368  Frami, Anderson and Donnelly            182 Bertie Road      East Davian         Iowa        72686  162000  120000   35000\n",
       "13   268755                   Walsh-Haley       2624 Beatty Parkways     Goodwinmouth  RhodeIsland        31919   55000  120000   35000\n",
       "14   273274                 McDermott PLC      8917 Bergstrom Meadow  Kathryneborough     Delaware        27933  150000  120000   70000"
      ]
     },
     "execution_count": 13,
     "metadata": {},
     "output_type": "execute_result"
    }
   ],
   "source": [
    "# 后5\n",
    "data.tail()"
   ]
  },
  {
   "cell_type": "code",
   "execution_count": 14,
   "metadata": {},
   "outputs": [
    {
     "data": {
      "text/plain": [
       "account         int64\n",
       "name           object\n",
       "street         object\n",
       "city           object\n",
       "state          object\n",
       "postal-code     int64\n",
       "Jan             int64\n",
       "Feb             int64\n",
       "Mar             int64\n",
       "dtype: object"
      ]
     },
     "execution_count": 14,
     "metadata": {},
     "output_type": "execute_result"
    }
   ],
   "source": [
    "data.dtypes"
   ]
  },
  {
   "cell_type": "code",
   "execution_count": 15,
   "metadata": {},
   "outputs": [
    {
     "data": {
      "text/plain": [
       "Index(['account', 'name', 'street', 'city', 'state', 'postal-code', 'Jan', 'Feb', 'Mar'], dtype='object')"
      ]
     },
     "execution_count": 15,
     "metadata": {},
     "output_type": "execute_result"
    }
   ],
   "source": [
    "data.columns"
   ]
  },
  {
   "cell_type": "code",
   "execution_count": 16,
   "metadata": {},
   "outputs": [],
   "source": [
    "# 季度销售额\n",
    "data['total'] = data['Jan'] + data['Feb'] + data['Mar']"
   ]
  },
  {
   "cell_type": "code",
   "execution_count": 17,
   "metadata": {
    "scrolled": true
   },
   "outputs": [
    {
     "data": {
      "text/html": [
       "<div>\n",
       "<style scoped>\n",
       "    .dataframe tbody tr th:only-of-type {\n",
       "        vertical-align: middle;\n",
       "    }\n",
       "\n",
       "    .dataframe tbody tr th {\n",
       "        vertical-align: top;\n",
       "    }\n",
       "\n",
       "    .dataframe thead th {\n",
       "        text-align: right;\n",
       "    }\n",
       "</style>\n",
       "<table border=\"1\" class=\"dataframe\">\n",
       "  <thead>\n",
       "    <tr style=\"text-align: right;\">\n",
       "      <th></th>\n",
       "      <th>account</th>\n",
       "      <th>name</th>\n",
       "      <th>street</th>\n",
       "      <th>city</th>\n",
       "      <th>state</th>\n",
       "      <th>postal-code</th>\n",
       "      <th>Jan</th>\n",
       "      <th>Feb</th>\n",
       "      <th>Mar</th>\n",
       "      <th>total</th>\n",
       "    </tr>\n",
       "  </thead>\n",
       "  <tbody>\n",
       "    <tr>\n",
       "      <th>0</th>\n",
       "      <td>211829</td>\n",
       "      <td>Kerluke, Koepp and Hilpert</td>\n",
       "      <td>34456 Sean Highway</td>\n",
       "      <td>New Jaycob</td>\n",
       "      <td>Texas</td>\n",
       "      <td>28752</td>\n",
       "      <td>10000</td>\n",
       "      <td>62000</td>\n",
       "      <td>35000</td>\n",
       "      <td>107000</td>\n",
       "    </tr>\n",
       "    <tr>\n",
       "      <th>1</th>\n",
       "      <td>320563</td>\n",
       "      <td>Walter-Trantow</td>\n",
       "      <td>1311 Alvis Tunnel</td>\n",
       "      <td>Port Khadijah</td>\n",
       "      <td>NorthCarolina</td>\n",
       "      <td>38365</td>\n",
       "      <td>95000</td>\n",
       "      <td>45000</td>\n",
       "      <td>35000</td>\n",
       "      <td>175000</td>\n",
       "    </tr>\n",
       "    <tr>\n",
       "      <th>2</th>\n",
       "      <td>648336</td>\n",
       "      <td>Bashirian, Kunde and Price</td>\n",
       "      <td>62184 Schamberger Underpass Apt. 231</td>\n",
       "      <td>New Lilianland</td>\n",
       "      <td>Iowa</td>\n",
       "      <td>76517</td>\n",
       "      <td>91000</td>\n",
       "      <td>120000</td>\n",
       "      <td>35000</td>\n",
       "      <td>246000</td>\n",
       "    </tr>\n",
       "    <tr>\n",
       "      <th>3</th>\n",
       "      <td>109996</td>\n",
       "      <td>D'Amore, Gleichner and Bode</td>\n",
       "      <td>155 Fadel Crescent Apt. 144</td>\n",
       "      <td>Hyattburgh</td>\n",
       "      <td>Maine</td>\n",
       "      <td>46021</td>\n",
       "      <td>45000</td>\n",
       "      <td>120000</td>\n",
       "      <td>10000</td>\n",
       "      <td>175000</td>\n",
       "    </tr>\n",
       "    <tr>\n",
       "      <th>4</th>\n",
       "      <td>121213</td>\n",
       "      <td>Bauch-Goldner</td>\n",
       "      <td>7274 Marissa Common</td>\n",
       "      <td>Shanahanchester</td>\n",
       "      <td>California</td>\n",
       "      <td>49681</td>\n",
       "      <td>162000</td>\n",
       "      <td>120000</td>\n",
       "      <td>35000</td>\n",
       "      <td>317000</td>\n",
       "    </tr>\n",
       "  </tbody>\n",
       "</table>\n",
       "</div>"
      ],
      "text/plain": [
       "   account                         name                                street             city          state  postal-code     Jan     Feb    Mar   total\n",
       "0   211829   Kerluke, Koepp and Hilpert                    34456 Sean Highway       New Jaycob          Texas        28752   10000   62000  35000  107000\n",
       "1   320563               Walter-Trantow                     1311 Alvis Tunnel    Port Khadijah  NorthCarolina        38365   95000   45000  35000  175000\n",
       "2   648336   Bashirian, Kunde and Price  62184 Schamberger Underpass Apt. 231   New Lilianland           Iowa        76517   91000  120000  35000  246000\n",
       "3   109996  D'Amore, Gleichner and Bode           155 Fadel Crescent Apt. 144       Hyattburgh          Maine        46021   45000  120000  10000  175000\n",
       "4   121213                Bauch-Goldner                   7274 Marissa Common  Shanahanchester     California        49681  162000  120000  35000  317000"
      ]
     },
     "execution_count": 17,
     "metadata": {},
     "output_type": "execute_result"
    }
   ],
   "source": [
    "data.head()"
   ]
  },
  {
   "cell_type": "code",
   "execution_count": 23,
   "metadata": {},
   "outputs": [
    {
     "data": {
      "text/plain": [
       "3686000"
      ]
     },
     "execution_count": 23,
     "metadata": {},
     "output_type": "execute_result"
    }
   ],
   "source": [
    "data['total'].sum()"
   ]
  },
  {
   "cell_type": "code",
   "execution_count": 24,
   "metadata": {},
   "outputs": [
    {
     "data": {
      "text/plain": [
       "107000"
      ]
     },
     "execution_count": 24,
     "metadata": {},
     "output_type": "execute_result"
    }
   ],
   "source": [
    "data['total'].min()"
   ]
  },
  {
   "cell_type": "code",
   "execution_count": 25,
   "metadata": {},
   "outputs": [
    {
     "data": {
      "text/plain": [
       "340000"
      ]
     },
     "execution_count": 25,
     "metadata": {},
     "output_type": "execute_result"
    }
   ],
   "source": [
    "data['total'].max()"
   ]
  },
  {
   "cell_type": "code",
   "execution_count": 26,
   "metadata": {},
   "outputs": [
    {
     "data": {
      "text/plain": [
       "245733.33333333334"
      ]
     },
     "execution_count": 26,
     "metadata": {},
     "output_type": "execute_result"
    }
   ],
   "source": [
    "data['total'].mean()"
   ]
  },
  {
   "cell_type": "code",
   "execution_count": 30,
   "metadata": {},
   "outputs": [
    {
     "data": {
      "text/html": [
       "<div>\n",
       "<style scoped>\n",
       "    .dataframe tbody tr th:only-of-type {\n",
       "        vertical-align: middle;\n",
       "    }\n",
       "\n",
       "    .dataframe tbody tr th {\n",
       "        vertical-align: top;\n",
       "    }\n",
       "\n",
       "    .dataframe thead th {\n",
       "        text-align: right;\n",
       "    }\n",
       "</style>\n",
       "<table border=\"1\" class=\"dataframe\">\n",
       "  <thead>\n",
       "    <tr style=\"text-align: right;\">\n",
       "      <th></th>\n",
       "      <th>Jan</th>\n",
       "      <th>Feb</th>\n",
       "      <th>Mar</th>\n",
       "      <th>total</th>\n",
       "    </tr>\n",
       "  </thead>\n",
       "  <tbody>\n",
       "    <tr>\n",
       "      <th>0</th>\n",
       "      <td>1462000</td>\n",
       "      <td>1507000</td>\n",
       "      <td>717000</td>\n",
       "      <td>3686000</td>\n",
       "    </tr>\n",
       "  </tbody>\n",
       "</table>\n",
       "</div>"
      ],
      "text/plain": [
       "       Jan      Feb     Mar    total\n",
       "0  1462000  1507000  717000  3686000"
      ]
     },
     "execution_count": 30,
     "metadata": {},
     "output_type": "execute_result"
    }
   ],
   "source": [
    "# 新加求和行\n",
    "res1 = data[['Jan','Feb','Mar','total']].sum()\n",
    "res2 = pd.DataFrame(data=res1)\n"
   ]
  },
  {
   "cell_type": "code",
   "execution_count": 31,
   "metadata": {},
   "outputs": [
    {
     "data": {
      "text/html": [
       "<div>\n",
       "<style scoped>\n",
       "    .dataframe tbody tr th:only-of-type {\n",
       "        vertical-align: middle;\n",
       "    }\n",
       "\n",
       "    .dataframe tbody tr th {\n",
       "        vertical-align: top;\n",
       "    }\n",
       "\n",
       "    .dataframe thead th {\n",
       "        text-align: right;\n",
       "    }\n",
       "</style>\n",
       "<table border=\"1\" class=\"dataframe\">\n",
       "  <thead>\n",
       "    <tr style=\"text-align: right;\">\n",
       "      <th></th>\n",
       "      <th>0</th>\n",
       "    </tr>\n",
       "  </thead>\n",
       "  <tbody>\n",
       "    <tr>\n",
       "      <th>Jan</th>\n",
       "      <td>1462000</td>\n",
       "    </tr>\n",
       "    <tr>\n",
       "      <th>Feb</th>\n",
       "      <td>1507000</td>\n",
       "    </tr>\n",
       "    <tr>\n",
       "      <th>Mar</th>\n",
       "      <td>717000</td>\n",
       "    </tr>\n",
       "    <tr>\n",
       "      <th>total</th>\n",
       "      <td>3686000</td>\n",
       "    </tr>\n",
       "  </tbody>\n",
       "</table>\n",
       "</div>"
      ],
      "text/plain": [
       "             0\n",
       "Jan    1462000\n",
       "Feb    1507000\n",
       "Mar     717000\n",
       "total  3686000"
      ]
     },
     "execution_count": 31,
     "metadata": {},
     "output_type": "execute_result"
    }
   ],
   "source": [
    "# 转换为dataframe\n",
    "res2"
   ]
  },
  {
   "cell_type": "code",
   "execution_count": 32,
   "metadata": {},
   "outputs": [
    {
     "data": {
      "text/html": [
       "<div>\n",
       "<style scoped>\n",
       "    .dataframe tbody tr th:only-of-type {\n",
       "        vertical-align: middle;\n",
       "    }\n",
       "\n",
       "    .dataframe tbody tr th {\n",
       "        vertical-align: top;\n",
       "    }\n",
       "\n",
       "    .dataframe thead th {\n",
       "        text-align: right;\n",
       "    }\n",
       "</style>\n",
       "<table border=\"1\" class=\"dataframe\">\n",
       "  <thead>\n",
       "    <tr style=\"text-align: right;\">\n",
       "      <th></th>\n",
       "      <th>Jan</th>\n",
       "      <th>Feb</th>\n",
       "      <th>Mar</th>\n",
       "      <th>total</th>\n",
       "    </tr>\n",
       "  </thead>\n",
       "  <tbody>\n",
       "    <tr>\n",
       "      <th>0</th>\n",
       "      <td>1462000</td>\n",
       "      <td>1507000</td>\n",
       "      <td>717000</td>\n",
       "      <td>3686000</td>\n",
       "    </tr>\n",
       "  </tbody>\n",
       "</table>\n",
       "</div>"
      ],
      "text/plain": [
       "       Jan      Feb     Mar    total\n",
       "0  1462000  1507000  717000  3686000"
      ]
     },
     "execution_count": 32,
     "metadata": {},
     "output_type": "execute_result"
    }
   ],
   "source": [
    "# 转置矩阵\n",
    "res2.T"
   ]
  },
  {
   "cell_type": "code",
   "execution_count": 34,
   "metadata": {},
   "outputs": [
    {
     "data": {
      "text/html": [
       "<div>\n",
       "<style scoped>\n",
       "    .dataframe tbody tr th:only-of-type {\n",
       "        vertical-align: middle;\n",
       "    }\n",
       "\n",
       "    .dataframe tbody tr th {\n",
       "        vertical-align: top;\n",
       "    }\n",
       "\n",
       "    .dataframe thead th {\n",
       "        text-align: right;\n",
       "    }\n",
       "</style>\n",
       "<table border=\"1\" class=\"dataframe\">\n",
       "  <thead>\n",
       "    <tr style=\"text-align: right;\">\n",
       "      <th></th>\n",
       "      <th>account</th>\n",
       "      <th>name</th>\n",
       "      <th>street</th>\n",
       "      <th>city</th>\n",
       "      <th>state</th>\n",
       "      <th>postal-code</th>\n",
       "      <th>Jan</th>\n",
       "      <th>Feb</th>\n",
       "      <th>Mar</th>\n",
       "      <th>total</th>\n",
       "    </tr>\n",
       "  </thead>\n",
       "  <tbody>\n",
       "    <tr>\n",
       "      <th>0</th>\n",
       "      <td>0</td>\n",
       "      <td>0</td>\n",
       "      <td>0</td>\n",
       "      <td>0</td>\n",
       "      <td>0</td>\n",
       "      <td>0</td>\n",
       "      <td>1462000</td>\n",
       "      <td>1507000</td>\n",
       "      <td>717000</td>\n",
       "      <td>3686000</td>\n",
       "    </tr>\n",
       "  </tbody>\n",
       "</table>\n",
       "</div>"
      ],
      "text/plain": [
       "   account  name  street  city  state  postal-code      Jan      Feb     Mar    total\n",
       "0        0     0       0     0      0            0  1462000  1507000  717000  3686000"
      ]
     },
     "execution_count": 34,
     "metadata": {},
     "output_type": "execute_result"
    }
   ],
   "source": [
    "# 转换为原始数据索引方式，缺失项用零填充\n",
    "res2.T.reindex(columns=data.columns,fill_value=0)"
   ]
  },
  {
   "cell_type": "code",
   "execution_count": 36,
   "metadata": {},
   "outputs": [],
   "source": [
    "# 将新数据加入\n",
    "data = data.append(res2.T.reindex(columns=data.columns,fill_value=0),ignore_index=True)"
   ]
  },
  {
   "cell_type": "code",
   "execution_count": 37,
   "metadata": {},
   "outputs": [],
   "source": [
    "# 改索引名\n",
    "data = data.rename(index={15:'Total'})"
   ]
  },
  {
   "cell_type": "code",
   "execution_count": 38,
   "metadata": {},
   "outputs": [
    {
     "data": {
      "text/html": [
       "<div>\n",
       "<style scoped>\n",
       "    .dataframe tbody tr th:only-of-type {\n",
       "        vertical-align: middle;\n",
       "    }\n",
       "\n",
       "    .dataframe tbody tr th {\n",
       "        vertical-align: top;\n",
       "    }\n",
       "\n",
       "    .dataframe thead th {\n",
       "        text-align: right;\n",
       "    }\n",
       "</style>\n",
       "<table border=\"1\" class=\"dataframe\">\n",
       "  <thead>\n",
       "    <tr style=\"text-align: right;\">\n",
       "      <th></th>\n",
       "      <th>account</th>\n",
       "      <th>name</th>\n",
       "      <th>street</th>\n",
       "      <th>city</th>\n",
       "      <th>state</th>\n",
       "      <th>postal-code</th>\n",
       "      <th>Jan</th>\n",
       "      <th>Feb</th>\n",
       "      <th>Mar</th>\n",
       "      <th>total</th>\n",
       "    </tr>\n",
       "  </thead>\n",
       "  <tbody>\n",
       "    <tr>\n",
       "      <th>11</th>\n",
       "      <td>231907</td>\n",
       "      <td>Hahn-Moore</td>\n",
       "      <td>18115 Olivine Throughway</td>\n",
       "      <td>Norbertomouth</td>\n",
       "      <td>NorthDakota</td>\n",
       "      <td>31415</td>\n",
       "      <td>150000</td>\n",
       "      <td>10000</td>\n",
       "      <td>162000</td>\n",
       "      <td>322000</td>\n",
       "    </tr>\n",
       "    <tr>\n",
       "      <th>12</th>\n",
       "      <td>242368</td>\n",
       "      <td>Frami, Anderson and Donnelly</td>\n",
       "      <td>182 Bertie Road</td>\n",
       "      <td>East Davian</td>\n",
       "      <td>Iowa</td>\n",
       "      <td>72686</td>\n",
       "      <td>162000</td>\n",
       "      <td>120000</td>\n",
       "      <td>35000</td>\n",
       "      <td>317000</td>\n",
       "    </tr>\n",
       "    <tr>\n",
       "      <th>13</th>\n",
       "      <td>268755</td>\n",
       "      <td>Walsh-Haley</td>\n",
       "      <td>2624 Beatty Parkways</td>\n",
       "      <td>Goodwinmouth</td>\n",
       "      <td>RhodeIsland</td>\n",
       "      <td>31919</td>\n",
       "      <td>55000</td>\n",
       "      <td>120000</td>\n",
       "      <td>35000</td>\n",
       "      <td>210000</td>\n",
       "    </tr>\n",
       "    <tr>\n",
       "      <th>14</th>\n",
       "      <td>273274</td>\n",
       "      <td>McDermott PLC</td>\n",
       "      <td>8917 Bergstrom Meadow</td>\n",
       "      <td>Kathryneborough</td>\n",
       "      <td>Delaware</td>\n",
       "      <td>27933</td>\n",
       "      <td>150000</td>\n",
       "      <td>120000</td>\n",
       "      <td>70000</td>\n",
       "      <td>340000</td>\n",
       "    </tr>\n",
       "    <tr>\n",
       "      <th>Total</th>\n",
       "      <td>0</td>\n",
       "      <td>0</td>\n",
       "      <td>0</td>\n",
       "      <td>0</td>\n",
       "      <td>0</td>\n",
       "      <td>0</td>\n",
       "      <td>1462000</td>\n",
       "      <td>1507000</td>\n",
       "      <td>717000</td>\n",
       "      <td>3686000</td>\n",
       "    </tr>\n",
       "  </tbody>\n",
       "</table>\n",
       "</div>"
      ],
      "text/plain": [
       "       account                          name                    street             city        state  postal-code      Jan      Feb     Mar    total\n",
       "11      231907                    Hahn-Moore  18115 Olivine Throughway    Norbertomouth  NorthDakota        31415   150000    10000  162000   322000\n",
       "12      242368  Frami, Anderson and Donnelly           182 Bertie Road      East Davian         Iowa        72686   162000   120000   35000   317000\n",
       "13      268755                   Walsh-Haley      2624 Beatty Parkways     Goodwinmouth  RhodeIsland        31919    55000   120000   35000   210000\n",
       "14      273274                 McDermott PLC     8917 Bergstrom Meadow  Kathryneborough     Delaware        27933   150000   120000   70000   340000\n",
       "Total        0                             0                         0                0            0            0  1462000  1507000  717000  3686000"
      ]
     },
     "execution_count": 38,
     "metadata": {},
     "output_type": "execute_result"
    }
   ],
   "source": [
    "data.tail()"
   ]
  },
  {
   "cell_type": "code",
   "execution_count": 39,
   "metadata": {},
   "outputs": [
    {
     "data": {
      "text/plain": [
       "0                Texas\n",
       "1        NorthCarolina\n",
       "2                 Iowa\n",
       "3                Maine\n",
       "4           California\n",
       "5             Arkansas\n",
       "6           Mississipi\n",
       "7          RhodeIsland\n",
       "8         Pennsylvania\n",
       "9                Idaho\n",
       "10            Tenessee\n",
       "11         NorthDakota\n",
       "12                Iowa\n",
       "13         RhodeIsland\n",
       "14            Delaware\n",
       "Total                0\n",
       "dtype: object"
      ]
     },
     "execution_count": 39,
     "metadata": {},
     "output_type": "execute_result"
    }
   ],
   "source": [
    "# 枚举函数使用 axis 1 行 axis 0 列 \n",
    "data.apply(lambda x:x['state'],axis=1)"
   ]
  },
  {
   "cell_type": "code",
   "execution_count": null,
   "metadata": {},
   "outputs": [],
   "source": []
  }
 ],
 "metadata": {
  "kernelspec": {
   "display_name": "Python 3",
   "language": "python",
   "name": "python3"
  },
  "language_info": {
   "codemirror_mode": {
    "name": "ipython",
    "version": 3
   },
   "file_extension": ".py",
   "mimetype": "text/x-python",
   "name": "python",
   "nbconvert_exporter": "python",
   "pygments_lexer": "ipython3",
   "version": "3.6.6"
  }
 },
 "nbformat": 4,
 "nbformat_minor": 2
}
